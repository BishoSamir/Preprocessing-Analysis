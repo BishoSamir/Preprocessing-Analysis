{
 "cells": [
  {
   "cell_type": "code",
   "execution_count": 1,
   "id": "8c5e454a",
   "metadata": {
    "id": "8c5e454a"
   },
   "outputs": [],
   "source": [
    "import pandas as pd \n",
    "import numpy as np \n",
    "import matplotlib.pyplot as plt\n",
    "import seaborn as sns\n",
    "import re  \n",
    "import warnings\n",
    "import os \n",
    "warnings.filterwarnings(\"ignore\")\n",
    "%matplotlib inline\n",
    "plt.rcParams['figure.figsize'] = [8,5]\n",
    "plt.rcParams['font.size'] =14\n",
    "plt.rcParams['font.weight']= 'bold'\n",
    "plt.style.use('seaborn')"
   ]
  },
  {
   "cell_type": "code",
   "execution_count": 2,
   "id": "26eb2e8c",
   "metadata": {
    "id": "26eb2e8c"
   },
   "outputs": [],
   "source": [
    "import torch \n",
    "import torch.nn as nn\n",
    "import torch.optim as optim\n",
    "import torch.nn.functional as F\n",
    "from torch.utils.data import DataLoader\n",
    "import torchvision.datasets as datasets \n",
    "import torchvision.transforms as tt"
   ]
  },
  {
   "cell_type": "code",
   "execution_count": 3,
   "id": "KMGgQfl1RaEb",
   "metadata": {
    "colab": {
     "base_uri": "https://localhost:8080/",
     "height": 206
    },
    "id": "KMGgQfl1RaEb",
    "outputId": "a7ab72f5-4d23-4fa0-a206-3b7523bf887f"
   },
   "outputs": [
    {
     "data": {
      "text/html": [
       "<div>\n",
       "<style scoped>\n",
       "    .dataframe tbody tr th:only-of-type {\n",
       "        vertical-align: middle;\n",
       "    }\n",
       "\n",
       "    .dataframe tbody tr th {\n",
       "        vertical-align: top;\n",
       "    }\n",
       "\n",
       "    .dataframe thead th {\n",
       "        text-align: right;\n",
       "    }\n",
       "</style>\n",
       "<table border=\"1\" class=\"dataframe\">\n",
       "  <thead>\n",
       "    <tr style=\"text-align: right;\">\n",
       "      <th></th>\n",
       "      <th>title</th>\n",
       "      <th>news_url</th>\n",
       "      <th>source_domain</th>\n",
       "      <th>tweet_num</th>\n",
       "      <th>real</th>\n",
       "    </tr>\n",
       "  </thead>\n",
       "  <tbody>\n",
       "    <tr>\n",
       "      <th>0</th>\n",
       "      <td>Kandi Burruss Explodes Over Rape Accusation on...</td>\n",
       "      <td>http://toofab.com/2017/05/08/real-housewives-a...</td>\n",
       "      <td>toofab.com</td>\n",
       "      <td>42</td>\n",
       "      <td>1</td>\n",
       "    </tr>\n",
       "    <tr>\n",
       "      <th>1</th>\n",
       "      <td>People's Choice Awards 2018: The best red carp...</td>\n",
       "      <td>https://www.today.com/style/see-people-s-choic...</td>\n",
       "      <td>www.today.com</td>\n",
       "      <td>0</td>\n",
       "      <td>1</td>\n",
       "    </tr>\n",
       "    <tr>\n",
       "      <th>2</th>\n",
       "      <td>Sophia Bush Sends Sweet Birthday Message to 'O...</td>\n",
       "      <td>https://www.etonline.com/news/220806_sophia_bu...</td>\n",
       "      <td>www.etonline.com</td>\n",
       "      <td>63</td>\n",
       "      <td>1</td>\n",
       "    </tr>\n",
       "    <tr>\n",
       "      <th>3</th>\n",
       "      <td>Colombian singer Maluma sparks rumours of inap...</td>\n",
       "      <td>https://www.dailymail.co.uk/news/article-33655...</td>\n",
       "      <td>www.dailymail.co.uk</td>\n",
       "      <td>20</td>\n",
       "      <td>1</td>\n",
       "    </tr>\n",
       "    <tr>\n",
       "      <th>4</th>\n",
       "      <td>Gossip Girl 10 Years Later: How Upper East Sid...</td>\n",
       "      <td>https://www.zerchoo.com/entertainment/gossip-g...</td>\n",
       "      <td>www.zerchoo.com</td>\n",
       "      <td>38</td>\n",
       "      <td>1</td>\n",
       "    </tr>\n",
       "  </tbody>\n",
       "</table>\n",
       "</div>"
      ],
      "text/plain": [
       "                                               title  \\\n",
       "0  Kandi Burruss Explodes Over Rape Accusation on...   \n",
       "1  People's Choice Awards 2018: The best red carp...   \n",
       "2  Sophia Bush Sends Sweet Birthday Message to 'O...   \n",
       "3  Colombian singer Maluma sparks rumours of inap...   \n",
       "4  Gossip Girl 10 Years Later: How Upper East Sid...   \n",
       "\n",
       "                                            news_url        source_domain  \\\n",
       "0  http://toofab.com/2017/05/08/real-housewives-a...           toofab.com   \n",
       "1  https://www.today.com/style/see-people-s-choic...        www.today.com   \n",
       "2  https://www.etonline.com/news/220806_sophia_bu...     www.etonline.com   \n",
       "3  https://www.dailymail.co.uk/news/article-33655...  www.dailymail.co.uk   \n",
       "4  https://www.zerchoo.com/entertainment/gossip-g...      www.zerchoo.com   \n",
       "\n",
       "   tweet_num  real  \n",
       "0         42     1  \n",
       "1          0     1  \n",
       "2         63     1  \n",
       "3         20     1  \n",
       "4         38     1  "
      ]
     },
     "execution_count": 3,
     "metadata": {},
     "output_type": "execute_result"
    }
   ],
   "source": [
    "df = pd.read_csv('archive (10)/FakeNewsNet.csv')\n",
    "df.head()"
   ]
  },
  {
   "cell_type": "code",
   "execution_count": 4,
   "id": "_wwWIqibj6Cn",
   "metadata": {
    "colab": {
     "base_uri": "https://localhost:8080/",
     "height": 206
    },
    "id": "_wwWIqibj6Cn",
    "outputId": "3c4a64c3-5643-4dd1-c56b-0722e1e15726"
   },
   "outputs": [
    {
     "data": {
      "text/html": [
       "<div>\n",
       "<style scoped>\n",
       "    .dataframe tbody tr th:only-of-type {\n",
       "        vertical-align: middle;\n",
       "    }\n",
       "\n",
       "    .dataframe tbody tr th {\n",
       "        vertical-align: top;\n",
       "    }\n",
       "\n",
       "    .dataframe thead th {\n",
       "        text-align: right;\n",
       "    }\n",
       "</style>\n",
       "<table border=\"1\" class=\"dataframe\">\n",
       "  <thead>\n",
       "    <tr style=\"text-align: right;\">\n",
       "      <th></th>\n",
       "      <th>title</th>\n",
       "      <th>source_domain</th>\n",
       "      <th>tweet_num</th>\n",
       "      <th>real</th>\n",
       "    </tr>\n",
       "  </thead>\n",
       "  <tbody>\n",
       "    <tr>\n",
       "      <th>0</th>\n",
       "      <td>Kandi Burruss Explodes Over Rape Accusation on...</td>\n",
       "      <td>toofab.com</td>\n",
       "      <td>42</td>\n",
       "      <td>1</td>\n",
       "    </tr>\n",
       "    <tr>\n",
       "      <th>1</th>\n",
       "      <td>People's Choice Awards 2018: The best red carp...</td>\n",
       "      <td>www.today.com</td>\n",
       "      <td>0</td>\n",
       "      <td>1</td>\n",
       "    </tr>\n",
       "    <tr>\n",
       "      <th>2</th>\n",
       "      <td>Sophia Bush Sends Sweet Birthday Message to 'O...</td>\n",
       "      <td>www.etonline.com</td>\n",
       "      <td>63</td>\n",
       "      <td>1</td>\n",
       "    </tr>\n",
       "    <tr>\n",
       "      <th>3</th>\n",
       "      <td>Colombian singer Maluma sparks rumours of inap...</td>\n",
       "      <td>www.dailymail.co.uk</td>\n",
       "      <td>20</td>\n",
       "      <td>1</td>\n",
       "    </tr>\n",
       "    <tr>\n",
       "      <th>4</th>\n",
       "      <td>Gossip Girl 10 Years Later: How Upper East Sid...</td>\n",
       "      <td>www.zerchoo.com</td>\n",
       "      <td>38</td>\n",
       "      <td>1</td>\n",
       "    </tr>\n",
       "  </tbody>\n",
       "</table>\n",
       "</div>"
      ],
      "text/plain": [
       "                                               title        source_domain  \\\n",
       "0  Kandi Burruss Explodes Over Rape Accusation on...           toofab.com   \n",
       "1  People's Choice Awards 2018: The best red carp...        www.today.com   \n",
       "2  Sophia Bush Sends Sweet Birthday Message to 'O...     www.etonline.com   \n",
       "3  Colombian singer Maluma sparks rumours of inap...  www.dailymail.co.uk   \n",
       "4  Gossip Girl 10 Years Later: How Upper East Sid...      www.zerchoo.com   \n",
       "\n",
       "   tweet_num  real  \n",
       "0         42     1  \n",
       "1          0     1  \n",
       "2         63     1  \n",
       "3         20     1  \n",
       "4         38     1  "
      ]
     },
     "execution_count": 4,
     "metadata": {},
     "output_type": "execute_result"
    }
   ],
   "source": [
    "df = df.drop(columns = 'news_url')\n",
    "df.head()"
   ]
  },
  {
   "cell_type": "code",
   "execution_count": 5,
   "id": "w31xovAgkKbA",
   "metadata": {
    "colab": {
     "base_uri": "https://localhost:8080/"
    },
    "id": "w31xovAgkKbA",
    "outputId": "5a201023-57e5-43cf-d404-8546e8bf5cc1"
   },
   "outputs": [
    {
     "name": "stdout",
     "output_type": "stream",
     "text": [
      "<class 'pandas.core.frame.DataFrame'>\n",
      "RangeIndex: 23196 entries, 0 to 23195\n",
      "Data columns (total 4 columns):\n",
      " #   Column         Non-Null Count  Dtype \n",
      "---  ------         --------------  ----- \n",
      " 0   title          23196 non-null  object\n",
      " 1   source_domain  22866 non-null  object\n",
      " 2   tweet_num      23196 non-null  int64 \n",
      " 3   real           23196 non-null  int64 \n",
      "dtypes: int64(2), object(2)\n",
      "memory usage: 725.0+ KB\n"
     ]
    }
   ],
   "source": [
    "df.info()"
   ]
  },
  {
   "cell_type": "code",
   "execution_count": 6,
   "id": "q-5AfRm2kCkM",
   "metadata": {
    "id": "q-5AfRm2kCkM"
   },
   "outputs": [],
   "source": [
    "df.fillna('missing' , inplace = True)"
   ]
  },
  {
   "cell_type": "code",
   "execution_count": 7,
   "id": "hdWIXOv5kfUD",
   "metadata": {
    "colab": {
     "base_uri": "https://localhost:8080/"
    },
    "id": "hdWIXOv5kfUD",
    "outputId": "1a1a0f21-b0b2-4af4-8367-a4c4a8b5cfa4"
   },
   "outputs": [
    {
     "data": {
      "text/plain": [
       "people.com                   1786\n",
       "www.dailymail.co.uk           964\n",
       "en.wikipedia.org              741\n",
       "www.usmagazine.com            709\n",
       "www.etonline.com              666\n",
       "www.longroom.com              549\n",
       "hollywoodlife.com             524\n",
       "www.usatoday.com              332\n",
       "www.hollywoodreporter.com     330\n",
       "variety.com                   304\n",
       "ew.com                        255\n",
       "www.elle.com                  205\n",
       "web.archive.org               204\n",
       "www.billboard.com             197\n",
       "www.today.com                 195\n",
       "www.msn.com                   194\n",
       "radaronline.com               192\n",
       "time.com                      182\n",
       "www.thewrap.com               177\n",
       "deadline.com                  159\n",
       "Name: source_domain, dtype: int64"
      ]
     },
     "execution_count": 7,
     "metadata": {},
     "output_type": "execute_result"
    }
   ],
   "source": [
    "most_active_domains = df[~(df['source_domain']=='missing')]['source_domain'].value_counts()[:20]\n",
    "most_active_domains"
   ]
  },
  {
   "cell_type": "code",
   "execution_count": 8,
   "id": "ozIpgkaRkmU_",
   "metadata": {
    "colab": {
     "base_uri": "https://localhost:8080/"
    },
    "id": "ozIpgkaRkmU_",
    "outputId": "6250c2cb-5a2f-4f1b-8a32-267ecf1cac84"
   },
   "outputs": [
    {
     "data": {
      "text/plain": [
       "[0.8790593505039194,\n",
       " 0.7987551867219918,\n",
       " 0.8340080971659919,\n",
       " 0.7926657263751763,\n",
       " 0.8783783783783784,\n",
       " 1.0,\n",
       " 0.12213740458015267,\n",
       " 0.9036144578313253,\n",
       " 0.9030303030303031,\n",
       " 0.8519736842105263,\n",
       " 0.8392156862745098,\n",
       " 0.751219512195122,\n",
       " 0.6617647058823529,\n",
       " 0.8324873096446701,\n",
       " 0.9230769230769231,\n",
       " 0.6185567010309279,\n",
       " 0.09375,\n",
       " 0.8516483516483516,\n",
       " 0.9152542372881356,\n",
       " 0.9056603773584906]"
      ]
     },
     "execution_count": 8,
     "metadata": {},
     "output_type": "execute_result"
    }
   ],
   "source": [
    "avg_of_real_news = []\n",
    "for i in most_active_domains.index:\n",
    "    x = df[df['source_domain'] == i]['real'].mean()\n",
    "    avg_of_real_news.append(x)\n",
    "avg_of_real_news"
   ]
  },
  {
   "cell_type": "code",
   "execution_count": 37,
   "id": "Q9jA8D73lmyb",
   "metadata": {
    "colab": {
     "base_uri": "https://localhost:8080/",
     "height": 505
    },
    "id": "Q9jA8D73lmyb",
    "outputId": "d9fd6879-42ad-4b75-c7f2-9d60a6ecfbee"
   },
   "outputs": [
    {
     "data": {
      "text/plain": [
       "Text(0.5, 1.0, 'Avg Of Real News')"
      ]
     },
     "execution_count": 37,
     "metadata": {},
     "output_type": "execute_result"
    },
    {
     "data": {
      "image/png": "[encoded data removed]",
      "text/plain": [
       "<Figure size 576x396 with 1 Axes>"
      ]
     },
     "metadata": {},
     "output_type": "display_data"
    }
   ],
   "source": [
    "plt.bar(most_active_domains.index , avg_of_real_news)\n",
    "plt.xticks(rotation = 90)\n",
    "plt.title('Avg Of Real News')"
   ]
  },
  {
   "cell_type": "markdown",
   "id": "9CqlbVxUpWOC",
   "metadata": {
    "id": "9CqlbVxUpWOC"
   },
   "source": [
    "**we can infer from above graph that source domain could be make a difference when we need to predict the target variable**"
   ]
  },
  {
   "cell_type": "code",
   "execution_count": 9,
   "id": "K-C3sLrVpwnj",
   "metadata": {
    "colab": {
     "base_uri": "https://localhost:8080/"
    },
    "id": "K-C3sLrVpwnj",
    "outputId": "42759a76-93f7-475c-d13f-14bda33d1edc"
   },
   "outputs": [
    {
     "data": {
      "text/plain": [
       "0.21212121212121213"
      ]
     },
     "execution_count": 9,
     "metadata": {},
     "output_type": "execute_result"
    }
   ],
   "source": [
    "df[df['source_domain']=='missing']['real'].mean()"
   ]
  },
  {
   "cell_type": "markdown",
   "id": "8f4Nn4qQrC_C",
   "metadata": {
    "id": "8f4Nn4qQrC_C"
   },
   "source": [
    "**From The Above Cell , we know that if we don't have a source_domain we have a high probability that is a fake news**"
   ]
  },
  {
   "cell_type": "code",
   "execution_count": 10,
   "id": "GzCkYYHkuMm4",
   "metadata": {
    "colab": {
     "base_uri": "https://localhost:8080/",
     "height": 49
    },
    "id": "GzCkYYHkuMm4",
    "outputId": "32a5af9e-0e9e-4054-8e56-72b6bb3acaa8"
   },
   "outputs": [
    {
     "data": {
      "text/html": [
       "<div>\n",
       "<style scoped>\n",
       "    .dataframe tbody tr th:only-of-type {\n",
       "        vertical-align: middle;\n",
       "    }\n",
       "\n",
       "    .dataframe tbody tr th {\n",
       "        vertical-align: top;\n",
       "    }\n",
       "\n",
       "    .dataframe thead th {\n",
       "        text-align: right;\n",
       "    }\n",
       "</style>\n",
       "<table border=\"1\" class=\"dataframe\">\n",
       "  <thead>\n",
       "    <tr style=\"text-align: right;\">\n",
       "      <th></th>\n",
       "      <th>title</th>\n",
       "      <th>source_domain</th>\n",
       "      <th>tweet_num</th>\n",
       "      <th>real</th>\n",
       "    </tr>\n",
       "  </thead>\n",
       "  <tbody>\n",
       "  </tbody>\n",
       "</table>\n",
       "</div>"
      ],
      "text/plain": [
       "Empty DataFrame\n",
       "Columns: [title, source_domain, tweet_num, real]\n",
       "Index: []"
      ]
     },
     "execution_count": 10,
     "metadata": {},
     "output_type": "execute_result"
    }
   ],
   "source": [
    "df[df['source_domain'].str.contains('WWW')]"
   ]
  },
  {
   "cell_type": "code",
   "execution_count": 11,
   "id": "feDC2PWErend",
   "metadata": {
    "id": "feDC2PWErend"
   },
   "outputs": [],
   "source": [
    "def feature_engineering(x):\n",
    "    hold = re.search(r'\\w*\\.?[a-zA-Z0-9-_]+\\.(.+)' , x)\n",
    "    if hold:\n",
    "        return hold.group(1)\n",
    "    return \"No Domain\"\n"
   ]
  },
  {
   "cell_type": "code",
   "execution_count": 12,
   "id": "7Nd8jh6nr30B",
   "metadata": {
    "colab": {
     "base_uri": "https://localhost:8080/"
    },
    "id": "7Nd8jh6nr30B",
    "outputId": "d5a10733-8e3e-4b18-bc1c-e4133b2802f4"
   },
   "outputs": [
    {
     "data": {
      "text/plain": [
       "('co.uk', 'com', 'No Domain')"
      ]
     },
     "execution_count": 12,
     "metadata": {},
     "output_type": "execute_result"
    }
   ],
   "source": [
    "  # Test The Function\n",
    "feature_engineering('www.dailymail.co.uk') , feature_engineering('dailymail.com'), feature_engineering('missing')"
   ]
  },
  {
   "cell_type": "code",
   "execution_count": 13,
   "id": "_kAgzPTMtMGp",
   "metadata": {
    "colab": {
     "base_uri": "https://localhost:8080/",
     "height": 206
    },
    "id": "_kAgzPTMtMGp",
    "outputId": "8b1b6a13-7619-420a-de16-023443a5903b"
   },
   "outputs": [
    {
     "data": {
      "text/html": [
       "<div>\n",
       "<style scoped>\n",
       "    .dataframe tbody tr th:only-of-type {\n",
       "        vertical-align: middle;\n",
       "    }\n",
       "\n",
       "    .dataframe tbody tr th {\n",
       "        vertical-align: top;\n",
       "    }\n",
       "\n",
       "    .dataframe thead th {\n",
       "        text-align: right;\n",
       "    }\n",
       "</style>\n",
       "<table border=\"1\" class=\"dataframe\">\n",
       "  <thead>\n",
       "    <tr style=\"text-align: right;\">\n",
       "      <th></th>\n",
       "      <th>title</th>\n",
       "      <th>source_domain</th>\n",
       "      <th>tweet_num</th>\n",
       "      <th>real</th>\n",
       "      <th>domain_suffix</th>\n",
       "    </tr>\n",
       "  </thead>\n",
       "  <tbody>\n",
       "    <tr>\n",
       "      <th>0</th>\n",
       "      <td>Kandi Burruss Explodes Over Rape Accusation on...</td>\n",
       "      <td>toofab.com</td>\n",
       "      <td>42</td>\n",
       "      <td>1</td>\n",
       "      <td>com</td>\n",
       "    </tr>\n",
       "    <tr>\n",
       "      <th>1</th>\n",
       "      <td>People's Choice Awards 2018: The best red carp...</td>\n",
       "      <td>www.today.com</td>\n",
       "      <td>0</td>\n",
       "      <td>1</td>\n",
       "      <td>com</td>\n",
       "    </tr>\n",
       "    <tr>\n",
       "      <th>2</th>\n",
       "      <td>Sophia Bush Sends Sweet Birthday Message to 'O...</td>\n",
       "      <td>www.etonline.com</td>\n",
       "      <td>63</td>\n",
       "      <td>1</td>\n",
       "      <td>com</td>\n",
       "    </tr>\n",
       "    <tr>\n",
       "      <th>3</th>\n",
       "      <td>Colombian singer Maluma sparks rumours of inap...</td>\n",
       "      <td>www.dailymail.co.uk</td>\n",
       "      <td>20</td>\n",
       "      <td>1</td>\n",
       "      <td>co.uk</td>\n",
       "    </tr>\n",
       "    <tr>\n",
       "      <th>4</th>\n",
       "      <td>Gossip Girl 10 Years Later: How Upper East Sid...</td>\n",
       "      <td>www.zerchoo.com</td>\n",
       "      <td>38</td>\n",
       "      <td>1</td>\n",
       "      <td>com</td>\n",
       "    </tr>\n",
       "  </tbody>\n",
       "</table>\n",
       "</div>"
      ],
      "text/plain": [
       "                                               title        source_domain  \\\n",
       "0  Kandi Burruss Explodes Over Rape Accusation on...           toofab.com   \n",
       "1  People's Choice Awards 2018: The best red carp...        www.today.com   \n",
       "2  Sophia Bush Sends Sweet Birthday Message to 'O...     www.etonline.com   \n",
       "3  Colombian singer Maluma sparks rumours of inap...  www.dailymail.co.uk   \n",
       "4  Gossip Girl 10 Years Later: How Upper East Sid...      www.zerchoo.com   \n",
       "\n",
       "   tweet_num  real domain_suffix  \n",
       "0         42     1           com  \n",
       "1          0     1           com  \n",
       "2         63     1           com  \n",
       "3         20     1         co.uk  \n",
       "4         38     1           com  "
      ]
     },
     "execution_count": 13,
     "metadata": {},
     "output_type": "execute_result"
    }
   ],
   "source": [
    "df['domain_suffix'] = df['source_domain'].apply(feature_engineering)\n",
    "df.head()"
   ]
  },
  {
   "cell_type": "code",
   "execution_count": 14,
   "id": "0blAwg9buInW",
   "metadata": {
    "colab": {
     "base_uri": "https://localhost:8080/"
    },
    "id": "0blAwg9buInW",
    "outputId": "0db3b304-9ff9-4298-bee8-40a66de120f8"
   },
   "outputs": [
    {
     "data": {
      "text/plain": [
       "com          18690\n",
       "co.uk         1552\n",
       "org           1289\n",
       "No Domain      330\n",
       "com.au         330\n",
       "uk             142\n",
       "net            108\n",
       "gov             87\n",
       "news            72\n",
       "ca              69\n",
       "co              61\n",
       "ie              55\n",
       "tv              36\n",
       "co.za           33\n",
       "co.in           28\n",
       "us              26\n",
       "co.nz           20\n",
       "pk              19\n",
       "one             15\n",
       "msn.com         13\n",
       "Name: domain_suffix, dtype: int64"
      ]
     },
     "execution_count": 14,
     "metadata": {},
     "output_type": "execute_result"
    }
   ],
   "source": [
    "top_suffix = df['domain_suffix'].value_counts()[:20]\n",
    "top_suffix"
   ]
  },
  {
   "cell_type": "code",
   "execution_count": 15,
   "id": "E4PDvi73v2Su",
   "metadata": {
    "colab": {
     "base_uri": "https://localhost:8080/"
    },
    "id": "E4PDvi73v2Su",
    "outputId": "eb4e2a39-7147-4c13-ce4d-44f1ea4be19e"
   },
   "outputs": [
    {
     "data": {
      "text/plain": [
       "[0.770733012306046,\n",
       " 0.7184278350515464,\n",
       " 0.7897595034910784,\n",
       " 0.21212121212121213,\n",
       " 0.3424242424242424,\n",
       " 0.6971830985915493,\n",
       " 0.7129629629629629,\n",
       " 0.9195402298850575,\n",
       " 0.8333333333333334,\n",
       " 0.8405797101449275,\n",
       " 0.7868852459016393,\n",
       " 0.6,\n",
       " 0.7222222222222222,\n",
       " 0.8484848484848485,\n",
       " 0.03571428571428571,\n",
       " 0.7307692307692307,\n",
       " 0.65,\n",
       " 0.631578947368421,\n",
       " 0.9333333333333333,\n",
       " 1.0]"
      ]
     },
     "execution_count": 15,
     "metadata": {},
     "output_type": "execute_result"
    }
   ],
   "source": [
    "avg_real_news = []\n",
    "for i in top_suffix.index:\n",
    "    avg_real_news.append(df[df['domain_suffix']==i]['real'].mean())\n",
    "avg_real_news"
   ]
  },
  {
   "cell_type": "code",
   "execution_count": 95,
   "id": "4GG9jAkrwT5U",
   "metadata": {
    "colab": {
     "base_uri": "https://localhost:8080/",
     "height": 404
    },
    "id": "4GG9jAkrwT5U",
    "outputId": "a4f20de1-3d69-473a-e58b-10118f1f953e"
   },
   "outputs": [
    {
     "data": {
      "image/png": "[encoded data removed]",
      "text/plain": [
       "<Figure size 576x396 with 1 Axes>"
      ]
     },
     "metadata": {},
     "output_type": "display_data"
    }
   ],
   "source": [
    "plt.bar(top_suffix.index , avg_real_news)\n",
    "plt.xticks(rotation = 90)\n",
    "plt.title('Avg Real News in each domain suffix');"
   ]
  },
  {
   "cell_type": "code",
   "execution_count": 16,
   "id": "j0M7VK3zwXqg",
   "metadata": {
    "id": "j0M7VK3zwXqg"
   },
   "outputs": [],
   "source": [
    "import spacy \n",
    "nlp = spacy.load(\"en_core_web_lg\")"
   ]
  },
  {
   "cell_type": "code",
   "execution_count": 17,
   "id": "wJzO8AlDyqkf",
   "metadata": {
    "id": "wJzO8AlDyqkf"
   },
   "outputs": [],
   "source": [
    "def text_preprocessing(x):\n",
    "    doc = nlp(x)\n",
    "    \n",
    "    filterd_token = []\n",
    "    \n",
    "    for token in doc:\n",
    "        if not (token.is_punct or token.is_stop):\n",
    "            filterd_token.append(str(token.lemma_))\n",
    "    return \" \".join(filterd_token)"
   ]
  },
  {
   "cell_type": "code",
   "execution_count": 18,
   "id": "dffb1e45",
   "metadata": {},
   "outputs": [
    {
     "data": {
      "text/plain": [
       "\"People's Choice Awards 2018: The best red carpet looks\""
      ]
     },
     "execution_count": 18,
     "metadata": {},
     "output_type": "execute_result"
    }
   ],
   "source": [
    "df.loc[1]['title']"
   ]
  },
  {
   "cell_type": "code",
   "execution_count": 19,
   "id": "861b1af0",
   "metadata": {},
   "outputs": [
    {
     "data": {
      "text/plain": [
       "'People Choice Awards 2018 good red carpet look'"
      ]
     },
     "execution_count": 19,
     "metadata": {},
     "output_type": "execute_result"
    }
   ],
   "source": [
    "# Test The Function\n",
    "text_preprocessing(df.loc[1]['title'])"
   ]
  },
  {
   "cell_type": "code",
   "execution_count": 20,
   "id": "4deacebd",
   "metadata": {},
   "outputs": [
    {
     "data": {
      "text/html": [
       "<div>\n",
       "<style scoped>\n",
       "    .dataframe tbody tr th:only-of-type {\n",
       "        vertical-align: middle;\n",
       "    }\n",
       "\n",
       "    .dataframe tbody tr th {\n",
       "        vertical-align: top;\n",
       "    }\n",
       "\n",
       "    .dataframe thead th {\n",
       "        text-align: right;\n",
       "    }\n",
       "</style>\n",
       "<table border=\"1\" class=\"dataframe\">\n",
       "  <thead>\n",
       "    <tr style=\"text-align: right;\">\n",
       "      <th></th>\n",
       "      <th>title</th>\n",
       "      <th>source_domain</th>\n",
       "      <th>tweet_num</th>\n",
       "      <th>real</th>\n",
       "      <th>domain_suffix</th>\n",
       "      <th>text</th>\n",
       "    </tr>\n",
       "  </thead>\n",
       "  <tbody>\n",
       "    <tr>\n",
       "      <th>0</th>\n",
       "      <td>Kandi Burruss Explodes Over Rape Accusation on...</td>\n",
       "      <td>toofab.com</td>\n",
       "      <td>42</td>\n",
       "      <td>1</td>\n",
       "      <td>com</td>\n",
       "      <td>Kandi Burruss explode Rape accusation real Hou...</td>\n",
       "    </tr>\n",
       "    <tr>\n",
       "      <th>1</th>\n",
       "      <td>People's Choice Awards 2018: The best red carp...</td>\n",
       "      <td>www.today.com</td>\n",
       "      <td>0</td>\n",
       "      <td>1</td>\n",
       "      <td>com</td>\n",
       "      <td>People Choice Awards 2018 good red carpet look</td>\n",
       "    </tr>\n",
       "    <tr>\n",
       "      <th>2</th>\n",
       "      <td>Sophia Bush Sends Sweet Birthday Message to 'O...</td>\n",
       "      <td>www.etonline.com</td>\n",
       "      <td>63</td>\n",
       "      <td>1</td>\n",
       "      <td>com</td>\n",
       "      <td>Sophia Bush send sweet Birthday message Tree H...</td>\n",
       "    </tr>\n",
       "    <tr>\n",
       "      <th>3</th>\n",
       "      <td>Colombian singer Maluma sparks rumours of inap...</td>\n",
       "      <td>www.dailymail.co.uk</td>\n",
       "      <td>20</td>\n",
       "      <td>1</td>\n",
       "      <td>co.uk</td>\n",
       "      <td>colombian singer Maluma spark rumour inappropr...</td>\n",
       "    </tr>\n",
       "    <tr>\n",
       "      <th>4</th>\n",
       "      <td>Gossip Girl 10 Years Later: How Upper East Sid...</td>\n",
       "      <td>www.zerchoo.com</td>\n",
       "      <td>38</td>\n",
       "      <td>1</td>\n",
       "      <td>com</td>\n",
       "      <td>Gossip Girl 10 year later Upper East sider sho...</td>\n",
       "    </tr>\n",
       "  </tbody>\n",
       "</table>\n",
       "</div>"
      ],
      "text/plain": [
       "                                               title        source_domain  \\\n",
       "0  Kandi Burruss Explodes Over Rape Accusation on...           toofab.com   \n",
       "1  People's Choice Awards 2018: The best red carp...        www.today.com   \n",
       "2  Sophia Bush Sends Sweet Birthday Message to 'O...     www.etonline.com   \n",
       "3  Colombian singer Maluma sparks rumours of inap...  www.dailymail.co.uk   \n",
       "4  Gossip Girl 10 Years Later: How Upper East Sid...      www.zerchoo.com   \n",
       "\n",
       "   tweet_num  real domain_suffix  \\\n",
       "0         42     1           com   \n",
       "1          0     1           com   \n",
       "2         63     1           com   \n",
       "3         20     1         co.uk   \n",
       "4         38     1           com   \n",
       "\n",
       "                                                text  \n",
       "0  Kandi Burruss explode Rape accusation real Hou...  \n",
       "1     People Choice Awards 2018 good red carpet look  \n",
       "2  Sophia Bush send sweet Birthday message Tree H...  \n",
       "3  colombian singer Maluma spark rumour inappropr...  \n",
       "4  Gossip Girl 10 year later Upper East sider sho...  "
      ]
     },
     "execution_count": 20,
     "metadata": {},
     "output_type": "execute_result"
    }
   ],
   "source": [
    "df['text'] = df['title'].apply(text_preprocessing)\n",
    "df.head()"
   ]
  },
  {
   "cell_type": "code",
   "execution_count": 21,
   "id": "80a2b321",
   "metadata": {},
   "outputs": [],
   "source": [
    "df = df.drop(columns ='title')"
   ]
  },
  {
   "cell_type": "code",
   "execution_count": 22,
   "id": "2ae0df95",
   "metadata": {},
   "outputs": [
    {
     "data": {
      "text/html": [
       "<div>\n",
       "<style scoped>\n",
       "    .dataframe tbody tr th:only-of-type {\n",
       "        vertical-align: middle;\n",
       "    }\n",
       "\n",
       "    .dataframe tbody tr th {\n",
       "        vertical-align: top;\n",
       "    }\n",
       "\n",
       "    .dataframe thead th {\n",
       "        text-align: right;\n",
       "    }\n",
       "</style>\n",
       "<table border=\"1\" class=\"dataframe\">\n",
       "  <thead>\n",
       "    <tr style=\"text-align: right;\">\n",
       "      <th></th>\n",
       "      <th>source_domain</th>\n",
       "      <th>tweet_num</th>\n",
       "      <th>real</th>\n",
       "      <th>domain_suffix</th>\n",
       "      <th>text</th>\n",
       "    </tr>\n",
       "  </thead>\n",
       "  <tbody>\n",
       "    <tr>\n",
       "      <th>0</th>\n",
       "      <td>toofab.com</td>\n",
       "      <td>42</td>\n",
       "      <td>1</td>\n",
       "      <td>com</td>\n",
       "      <td>Kandi Burruss explode Rape accusation real Hou...</td>\n",
       "    </tr>\n",
       "    <tr>\n",
       "      <th>1</th>\n",
       "      <td>www.today.com</td>\n",
       "      <td>0</td>\n",
       "      <td>1</td>\n",
       "      <td>com</td>\n",
       "      <td>People Choice Awards 2018 good red carpet look</td>\n",
       "    </tr>\n",
       "    <tr>\n",
       "      <th>2</th>\n",
       "      <td>www.etonline.com</td>\n",
       "      <td>63</td>\n",
       "      <td>1</td>\n",
       "      <td>com</td>\n",
       "      <td>Sophia Bush send sweet Birthday message Tree H...</td>\n",
       "    </tr>\n",
       "    <tr>\n",
       "      <th>3</th>\n",
       "      <td>www.dailymail.co.uk</td>\n",
       "      <td>20</td>\n",
       "      <td>1</td>\n",
       "      <td>co.uk</td>\n",
       "      <td>colombian singer Maluma spark rumour inappropr...</td>\n",
       "    </tr>\n",
       "    <tr>\n",
       "      <th>4</th>\n",
       "      <td>www.zerchoo.com</td>\n",
       "      <td>38</td>\n",
       "      <td>1</td>\n",
       "      <td>com</td>\n",
       "      <td>Gossip Girl 10 year later Upper East sider sho...</td>\n",
       "    </tr>\n",
       "  </tbody>\n",
       "</table>\n",
       "</div>"
      ],
      "text/plain": [
       "         source_domain  tweet_num  real domain_suffix  \\\n",
       "0           toofab.com         42     1           com   \n",
       "1        www.today.com          0     1           com   \n",
       "2     www.etonline.com         63     1           com   \n",
       "3  www.dailymail.co.uk         20     1         co.uk   \n",
       "4      www.zerchoo.com         38     1           com   \n",
       "\n",
       "                                                text  \n",
       "0  Kandi Burruss explode Rape accusation real Hou...  \n",
       "1     People Choice Awards 2018 good red carpet look  \n",
       "2  Sophia Bush send sweet Birthday message Tree H...  \n",
       "3  colombian singer Maluma spark rumour inappropr...  \n",
       "4  Gossip Girl 10 year later Upper East sider sho...  "
      ]
     },
     "execution_count": 22,
     "metadata": {},
     "output_type": "execute_result"
    }
   ],
   "source": [
    "df.head()"
   ]
  },
  {
   "cell_type": "code",
   "execution_count": 23,
   "id": "44b14ad7",
   "metadata": {},
   "outputs": [
    {
     "data": {
      "text/html": [
       "<div>\n",
       "<style scoped>\n",
       "    .dataframe tbody tr th:only-of-type {\n",
       "        vertical-align: middle;\n",
       "    }\n",
       "\n",
       "    .dataframe tbody tr th {\n",
       "        vertical-align: top;\n",
       "    }\n",
       "\n",
       "    .dataframe thead th {\n",
       "        text-align: right;\n",
       "    }\n",
       "</style>\n",
       "<table border=\"1\" class=\"dataframe\">\n",
       "  <thead>\n",
       "    <tr style=\"text-align: right;\">\n",
       "      <th></th>\n",
       "      <th>source_domain</th>\n",
       "      <th>tweet_num</th>\n",
       "      <th>real</th>\n",
       "      <th>domain_suffix</th>\n",
       "      <th>text</th>\n",
       "    </tr>\n",
       "  </thead>\n",
       "  <tbody>\n",
       "    <tr>\n",
       "      <th>0</th>\n",
       "      <td>toofab.com</td>\n",
       "      <td>42</td>\n",
       "      <td>1</td>\n",
       "      <td>com</td>\n",
       "      <td>Kandi Burruss explode Rape accusation real Hou...</td>\n",
       "    </tr>\n",
       "    <tr>\n",
       "      <th>1</th>\n",
       "      <td>www.today.com</td>\n",
       "      <td>0</td>\n",
       "      <td>1</td>\n",
       "      <td>com</td>\n",
       "      <td>People Choice Awards 2018 good red carpet look</td>\n",
       "    </tr>\n",
       "    <tr>\n",
       "      <th>2</th>\n",
       "      <td>www.etonline.com</td>\n",
       "      <td>63</td>\n",
       "      <td>1</td>\n",
       "      <td>com</td>\n",
       "      <td>Sophia Bush send sweet Birthday message Tree H...</td>\n",
       "    </tr>\n",
       "    <tr>\n",
       "      <th>3</th>\n",
       "      <td>www.dailymail.co.uk</td>\n",
       "      <td>20</td>\n",
       "      <td>1</td>\n",
       "      <td>co.uk</td>\n",
       "      <td>colombian singer Maluma spark rumour inappropr...</td>\n",
       "    </tr>\n",
       "    <tr>\n",
       "      <th>4</th>\n",
       "      <td>www.zerchoo.com</td>\n",
       "      <td>38</td>\n",
       "      <td>1</td>\n",
       "      <td>com</td>\n",
       "      <td>Gossip Girl 10 year later Upper East sider sho...</td>\n",
       "    </tr>\n",
       "  </tbody>\n",
       "</table>\n",
       "</div>"
      ],
      "text/plain": [
       "         source_domain  tweet_num  real domain_suffix  \\\n",
       "0           toofab.com         42     1           com   \n",
       "1        www.today.com          0     1           com   \n",
       "2     www.etonline.com         63     1           com   \n",
       "3  www.dailymail.co.uk         20     1         co.uk   \n",
       "4      www.zerchoo.com         38     1           com   \n",
       "\n",
       "                                                text  \n",
       "0  Kandi Burruss explode Rape accusation real Hou...  \n",
       "1     People Choice Awards 2018 good red carpet look  \n",
       "2  Sophia Bush send sweet Birthday message Tree H...  \n",
       "3  colombian singer Maluma spark rumour inappropr...  \n",
       "4  Gossip Girl 10 year later Upper East sider sho...  "
      ]
     },
     "execution_count": 23,
     "metadata": {},
     "output_type": "execute_result"
    }
   ],
   "source": [
    "df.head()"
   ]
  },
  {
   "cell_type": "code",
   "execution_count": 24,
   "id": "959ab854",
   "metadata": {},
   "outputs": [],
   "source": [
    "df['vector'] = df['text'].apply(lambda x : nlp(x).vector)"
   ]
  },
  {
   "cell_type": "code",
   "execution_count": 25,
   "id": "2a0cb405",
   "metadata": {},
   "outputs": [],
   "source": [
    "df['domain_vector'] = df['source_domain'].apply(lambda x : nlp(x).vector)"
   ]
  },
  {
   "cell_type": "code",
   "execution_count": 26,
   "id": "f2c0dab0",
   "metadata": {},
   "outputs": [],
   "source": [
    "df['suffix_vector'] = df['domain_suffix'].apply(lambda x : nlp(x).vector)"
   ]
  },
  {
   "cell_type": "code",
   "execution_count": 27,
   "id": "a29ed99c",
   "metadata": {},
   "outputs": [
    {
     "data": {
      "text/html": [
       "<div>\n",
       "<style scoped>\n",
       "    .dataframe tbody tr th:only-of-type {\n",
       "        vertical-align: middle;\n",
       "    }\n",
       "\n",
       "    .dataframe tbody tr th {\n",
       "        vertical-align: top;\n",
       "    }\n",
       "\n",
       "    .dataframe thead th {\n",
       "        text-align: right;\n",
       "    }\n",
       "</style>\n",
       "<table border=\"1\" class=\"dataframe\">\n",
       "  <thead>\n",
       "    <tr style=\"text-align: right;\">\n",
       "      <th></th>\n",
       "      <th>source_domain</th>\n",
       "      <th>tweet_num</th>\n",
       "      <th>real</th>\n",
       "      <th>domain_suffix</th>\n",
       "      <th>text</th>\n",
       "      <th>vector</th>\n",
       "      <th>domain_vector</th>\n",
       "      <th>suffix_vector</th>\n",
       "    </tr>\n",
       "  </thead>\n",
       "  <tbody>\n",
       "    <tr>\n",
       "      <th>0</th>\n",
       "      <td>toofab.com</td>\n",
       "      <td>42</td>\n",
       "      <td>1</td>\n",
       "      <td>com</td>\n",
       "      <td>Kandi Burruss explode Rape accusation real Hou...</td>\n",
       "      <td>[-0.4944977, 0.55524904, 0.029347325, 0.531715...</td>\n",
       "      <td>[0.0, 0.0, 0.0, 0.0, 0.0, 0.0, 0.0, 0.0, 0.0, ...</td>\n",
       "      <td>[6.3196, -1.042, 3.3605, -1.3344, -4.5178, -0....</td>\n",
       "    </tr>\n",
       "    <tr>\n",
       "      <th>1</th>\n",
       "      <td>www.today.com</td>\n",
       "      <td>0</td>\n",
       "      <td>1</td>\n",
       "      <td>com</td>\n",
       "      <td>People Choice Awards 2018 good red carpet look</td>\n",
       "      <td>[-0.2919963, -0.80936384, -2.3515975, 1.375661...</td>\n",
       "      <td>[0.0, 0.0, 0.0, 0.0, 0.0, 0.0, 0.0, 0.0, 0.0, ...</td>\n",
       "      <td>[6.3196, -1.042, 3.3605, -1.3344, -4.5178, -0....</td>\n",
       "    </tr>\n",
       "    <tr>\n",
       "      <th>2</th>\n",
       "      <td>www.etonline.com</td>\n",
       "      <td>63</td>\n",
       "      <td>1</td>\n",
       "      <td>com</td>\n",
       "      <td>Sophia Bush send sweet Birthday message Tree H...</td>\n",
       "      <td>[-1.332612, -1.9557451, 0.05786579, -0.4090297...</td>\n",
       "      <td>[0.0, 0.0, 0.0, 0.0, 0.0, 0.0, 0.0, 0.0, 0.0, ...</td>\n",
       "      <td>[6.3196, -1.042, 3.3605, -1.3344, -4.5178, -0....</td>\n",
       "    </tr>\n",
       "    <tr>\n",
       "      <th>3</th>\n",
       "      <td>www.dailymail.co.uk</td>\n",
       "      <td>20</td>\n",
       "      <td>1</td>\n",
       "      <td>co.uk</td>\n",
       "      <td>colombian singer Maluma spark rumour inappropr...</td>\n",
       "      <td>[0.26080623, 0.58870625, -0.83746624, -1.45354...</td>\n",
       "      <td>[0.0, 0.0, 0.0, 0.0, 0.0, 0.0, 0.0, 0.0, 0.0, ...</td>\n",
       "      <td>[2.7281, -1.542, 1.5109, -0.65479, -0.38351, -...</td>\n",
       "    </tr>\n",
       "    <tr>\n",
       "      <th>4</th>\n",
       "      <td>www.zerchoo.com</td>\n",
       "      <td>38</td>\n",
       "      <td>1</td>\n",
       "      <td>com</td>\n",
       "      <td>Gossip Girl 10 year later Upper East sider sho...</td>\n",
       "      <td>[-0.921845, -0.7150187, 1.1188186, -0.40771428...</td>\n",
       "      <td>[0.0, 0.0, 0.0, 0.0, 0.0, 0.0, 0.0, 0.0, 0.0, ...</td>\n",
       "      <td>[6.3196, -1.042, 3.3605, -1.3344, -4.5178, -0....</td>\n",
       "    </tr>\n",
       "  </tbody>\n",
       "</table>\n",
       "</div>"
      ],
      "text/plain": [
       "         source_domain  tweet_num  real domain_suffix  \\\n",
       "0           toofab.com         42     1           com   \n",
       "1        www.today.com          0     1           com   \n",
       "2     www.etonline.com         63     1           com   \n",
       "3  www.dailymail.co.uk         20     1         co.uk   \n",
       "4      www.zerchoo.com         38     1           com   \n",
       "\n",
       "                                                text  \\\n",
       "0  Kandi Burruss explode Rape accusation real Hou...   \n",
       "1     People Choice Awards 2018 good red carpet look   \n",
       "2  Sophia Bush send sweet Birthday message Tree H...   \n",
       "3  colombian singer Maluma spark rumour inappropr...   \n",
       "4  Gossip Girl 10 year later Upper East sider sho...   \n",
       "\n",
       "                                              vector  \\\n",
       "0  [-0.4944977, 0.55524904, 0.029347325, 0.531715...   \n",
       "1  [-0.2919963, -0.80936384, -2.3515975, 1.375661...   \n",
       "2  [-1.332612, -1.9557451, 0.05786579, -0.4090297...   \n",
       "3  [0.26080623, 0.58870625, -0.83746624, -1.45354...   \n",
       "4  [-0.921845, -0.7150187, 1.1188186, -0.40771428...   \n",
       "\n",
       "                                       domain_vector  \\\n",
       "0  [0.0, 0.0, 0.0, 0.0, 0.0, 0.0, 0.0, 0.0, 0.0, ...   \n",
       "1  [0.0, 0.0, 0.0, 0.0, 0.0, 0.0, 0.0, 0.0, 0.0, ...   \n",
       "2  [0.0, 0.0, 0.0, 0.0, 0.0, 0.0, 0.0, 0.0, 0.0, ...   \n",
       "3  [0.0, 0.0, 0.0, 0.0, 0.0, 0.0, 0.0, 0.0, 0.0, ...   \n",
       "4  [0.0, 0.0, 0.0, 0.0, 0.0, 0.0, 0.0, 0.0, 0.0, ...   \n",
       "\n",
       "                                       suffix_vector  \n",
       "0  [6.3196, -1.042, 3.3605, -1.3344, -4.5178, -0....  \n",
       "1  [6.3196, -1.042, 3.3605, -1.3344, -4.5178, -0....  \n",
       "2  [6.3196, -1.042, 3.3605, -1.3344, -4.5178, -0....  \n",
       "3  [2.7281, -1.542, 1.5109, -0.65479, -0.38351, -...  \n",
       "4  [6.3196, -1.042, 3.3605, -1.3344, -4.5178, -0....  "
      ]
     },
     "execution_count": 27,
     "metadata": {},
     "output_type": "execute_result"
    }
   ],
   "source": [
    "df.head()"
   ]
  },
  {
   "cell_type": "markdown",
   "id": "4761f1d4",
   "metadata": {},
   "source": [
    "**I will stop here, but i will give u some tips to continue after me:**<pre>\n",
    "1 - you can use OneHotEncoder on domain suffix instead of word2vec or use both together , u need to try first to decide\n",
    "2 - data are imbalance ,so u could do oversampling or increase class weight for zeros\n",
    "3 - u need to normalize tweet_num first if u will uses model like KNN or any model use distance to solve the problem\n",
    "4 - u can try another approach using TFIDF or Merge it with Word2Vec"
   ]
  },
  {
   "cell_type": "code",
   "execution_count": null,
   "id": "edff2941",
   "metadata": {},
   "outputs": [],
   "source": []
  }
 ],
 "metadata": {
  "colab": {
   "provenance": []
  },
  "kernelspec": {
   "display_name": "Python 3 (ipykernel)",
   "language": "python",
   "name": "python3"
  },
  "language_info": {
   "codemirror_mode": {
    "name": "ipython",
    "version": 3
   },
   "file_extension": ".py",
   "mimetype": "text/x-python",
   "name": "python",
   "nbconvert_exporter": "python",
   "pygments_lexer": "ipython3",
   "version": "3.7.13"
  }
 },
 "nbformat": 4,
 "nbformat_minor": 5
}
